{
 "cells": [
  {
   "cell_type": "code",
   "execution_count": null,
   "metadata": {
    "collapsed": true,
    "pycharm": {
     "is_executing": true
    }
   },
   "outputs": [],
   "source": [
    "from matplotlib import pyplot as plt\n",
    "from matplotlib_venn import venn3, venn3_circles, venn3_unweighted\n",
    "import numpy as np\n",
    "\n",
    "plt.style.use('dark_background')\n",
    "#plt.style.use('seaborn')\n",
    "params = {'figure.figsize': (18 , 25),\n",
    "              'axes.labelsize': 20,\n",
    "              'axes.titlesize': 30,\n",
    "              'xtick.labelsize': 20,\n",
    "              'ytick.labelsize': 20}\n",
    "plt.rcParams.update(params)\n",
    "\n",
    "v = venn3_unweighted(subsets=(1, 1, 1, 1, 1, 1, 1),\n",
    "             set_labels=(\"\", \"\", \"\"),\n",
    "             subset_areas=(5,3,1,1,1,1,1))\n",
    "\n",
    "v.get_label_by_id('100').set_text(\"Economics & \\n Reaserch\")\n",
    "v.get_label_by_id('010').set_text(\"Project \\n Manager\")\n",
    "v.get_label_by_id('001').set_text(\"Data \\n Scientist\")\n",
    "v.get_label_by_id('101').set_text(\"\")\n",
    "v.get_label_by_id('011').set_text(\"\")\n",
    "v.get_label_by_id('110').set_text(\"\")\n",
    "v.get_label_by_id('111').set_text(\"Me\")\n",
    "\n",
    "about =  \"Buenos Aires, Argentina (UTC-3)\\n\\nigalkej@gmail.com\"\n",
    "data_sc = \"Professional experience:\\n>Data Scientist (DIC 2020 - NOV 2022)\\n Center for Production Studies (CEPXXI), Ministry of Economy\\nProvided strategic assistance for data-driven decision making.\\n Some projects:\\n 1. Final use classification of goods using Xgboost \\n   and Sage Maker (AWS). 3GB DB\\n 2. Final destination classification of imported goods \\n   by building rules based on domain knowledge. \\n 3. Feature selection to explain productivity using \\n   Lasso regularization method. \\n 4. Optimization of land use subject to constraints using Scipy. \\n 5. Study of industry heterogeneity using Logit regressions.\\n\\nSkills:\\n•Python, R, SQL, MongoDB,SageMaker (AWS), Gis\\n•Machine Learning | Automation | Optimization | Debugging |\\n  LaTex | Markdown | Github |\\n•Reports, indicators, and dashboards for information visualization.\\n•Efficient approach to complex problemsolving\\n•Handling large volumes of data\\n\\nCredentials:\\n>Master degree in Data Mining & Knowledge Discovery\\n (2021-CURRENT)\\n University of Buenos Aires\\n>Technician in Electronic (1998-2003)\\n ORT High School\"\n",
    "e_and_r = \"Professional experience:\\n>Reasercher (APR 2015- CURRENT)\\n National Scientific and Technical Research Council (CONICET)\\n I have written numerous scientific articles in prestigious journals,\\n book chapters, newspaper articles, and a book.\\n My research is interdisciplinary.\\n\\n>University professor (2005-2021)\\n UBA, UNGS, UNM, UNLZ\\n\\nSkills:\\n•Business intelligence\\n•Value chain studies\\n•Macroeconomic analysis\\n•Construction of new methodologies and analysis tools\\n•Critical thinking\\n•Learning capacity\\n•International trade databases\\n\\nCredentials:\\n>Bachelor's degree in Economics (2010)\\n University of Buenos Aires\\n>Master's degree in Latin American Studies (2017)\\n University of Buenos Aires\\n>PhD in Social Sciences (2019)\\nUniversity of Buenos Aires\\n>Doctoral scholarchip (2015-2019)\\n National Scientific and Technical Research Council (CONICET)\\n>Postdoc scholarchip (2019-2021)\\n National Scientific and Technical Research Council (CONICET)\"\n",
    "\n",
    "pm=\"Professional experience:\\n>Team leader (DIC 2020- NOV 2022)\\n Center for Production Studies (CEPXXI), Ministry of Economy\\n Led a team of 10 analysts that prepared reports and provided\\n information to assist decisions that work in the real world.\\n\\nSkills:\\n•Gantt | Trello | Google suite | Slack\\n•Decision making at critical moments.\\n•Promotion and stimulation of capacities of team members\\n•·Organizational and planning capacity of the tasks.\\n•Teamwork, delegation of tasks and excellent interpersonal treatment\\n\\nInternships and volunteering:\\n>Counselor (2010- 2012)\\n University of Buenos Aires\\n Preparation of projects and budgets. Strategic negotiation\\n>President (2012-2013)\\n Student union of University of Buenos Aires\\n Coordination of multiple work teams, management of cultural events\"\n",
    "\n",
    "#pm=\"Professional experience:\\n>Team leader (DIC 2020- NOV 2022)\\n Center for Production Studies (CEPXXI),\\n Ministry of Economy\\n Led a team of 10 analysts that prepared\\n reports and provided information to assist\\n decisions that work in the real world.\\n\\nSkills:\\n•Gantt | Trello | Google suite | Slack\\n•Decision making at critical moments.\\n•Promotion and stimulation\\n of capacities of team members\\n•Organizational and planning capacity of\\n the tasks.\\n•Teamwork, delegation of tasks and excellent\\n interpersonal treatment\\n\\nInternships and volunteering:\\n>Counselor (2010- 2012)\\n University of Buenos Aires\\n Preparation of projects and budgets.\\n Strategic negotiation\\n>President (2012-2013)\\n Student union of University of Buenos Aires\\n Coordination of multiple work teams,\\n management of cultural events\"\n",
    "\n",
    "\n",
    "for text in v.subset_labels:\n",
    "    text.set_fontsize(14)\n",
    "\n",
    "plt.annotate(about, xy=v.get_label_by_id('111').get_position() - np.array([0, 0.05]), xytext=(-100,450),\n",
    "             ha='left', textcoords='offset points', bbox=dict(boxstyle='round,pad=0.5', fc='gray', alpha=0.1),\n",
    "             arrowprops=dict(arrowstyle='->', connectionstyle='arc3,rad=0.5',color='gray'),fontsize=14)\n",
    "plt.annotate(e_and_r, xy=v.get_label_by_id('100').get_position() - np.array([0, 0.05]), xytext=(-300,-800), ha='left',              textcoords='offset points', bbox=dict(boxstyle='round,pad=0.5', fc='gray', alpha=0.1),arrowprops=dict                  (arrowstyle='->', connectionstyle='arc3,rad=0.5',color='gray'),fontsize=14)\n",
    "plt.annotate(pm, xy=v.get_label_by_id('010').get_position() - np.array([0, 0.05]), xytext=(0,-600),\n",
    "             ha='left', textcoords='offset points', bbox=dict(boxstyle='round,pad=0.5', fc='gray', alpha=0.1),\n",
    "             arrowprops=dict(arrowstyle='->', connectionstyle='arc3,rad=0.5',color='gray'),fontsize=14)\n",
    "plt.annotate(data_sc, xy=v.get_label_by_id('001').get_position() - np.array([0, 0.05]), xytext=(-200,-450),\n",
    "             ha='left', textcoords='offset points', bbox=dict(boxstyle='round,pad=0.5', fc='gray', alpha=0.1),\n",
    "             arrowprops=dict(arrowstyle='->', connectionstyle='arc3,rad=0.5',color='gray'),fontsize=14)\n",
    "plt.savefig('aboutme2023_dark.png', format='png', dpi=300, transparent=True)\n",
    "plt.show()\n"
   ]
  },
  {
   "cell_type": "code",
   "execution_count": null,
   "outputs": [],
   "source": [],
   "metadata": {
    "collapsed": false,
    "pycharm": {
     "is_executing": true
    }
   }
  }
 ],
 "metadata": {
  "kernelspec": {
   "display_name": "Python 3",
   "language": "python",
   "name": "python3"
  },
  "language_info": {
   "codemirror_mode": {
    "name": "ipython",
    "version": 2
   },
   "file_extension": ".py",
   "mimetype": "text/x-python",
   "name": "python",
   "nbconvert_exporter": "python",
   "pygments_lexer": "ipython2",
   "version": "2.7.6"
  }
 },
 "nbformat": 4,
 "nbformat_minor": 0
}
